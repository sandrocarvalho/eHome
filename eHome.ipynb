{
  "nbformat": 4,
  "nbformat_minor": 0,
  "metadata": {
    "colab": {
      "provenance": []
    },
    "kernelspec": {
      "name": "python3",
      "display_name": "Python 3"
    },
    "language_info": {
      "name": "python"
    }
  },
  "cells": [
    {
      "cell_type": "code",
      "source": [
        "%pip -q install google-genai"
      ],
      "metadata": {
        "id": "UCCbECexLk_h"
      },
      "execution_count": 12,
      "outputs": []
    },
    {
      "cell_type": "code",
      "source": [
        "# Configura a API Key do Google Gemini\n",
        "\n",
        "import os\n",
        "from google.colab import userdata\n",
        "\n",
        "os.environ[\"GOOGLE_API_KEY\"] = userdata.get('GOOGLE_API_KEY')"
      ],
      "metadata": {
        "id": "NfCqHo1tLk8P"
      },
      "execution_count": 14,
      "outputs": []
    },
    {
      "cell_type": "code",
      "source": [
        "# Configura o cliente da SDK do Gemini\n",
        "\n",
        "from google import genai\n",
        "\n",
        "client = genai.Client()\n",
        "\n",
        "MODEL_ID = \"gemini-2.0-flash\""
      ],
      "metadata": {
        "id": "bV4w0H5TLk5g"
      },
      "execution_count": 15,
      "outputs": []
    },
    {
      "cell_type": "code",
      "source": [
        "# Instalar Framework de agentes do Google ################################################\n",
        "!pip install -q google-adk"
      ],
      "metadata": {
        "colab": {
          "base_uri": "https://localhost:8080/"
        },
        "id": "a1eRPalxEnj7",
        "outputId": "e0547811-d0cc-4826-8e28-627d8e5eb9aa"
      },
      "execution_count": 16,
      "outputs": [
        {
          "output_type": "stream",
          "name": "stdout",
          "text": [
            "\u001b[?25l   \u001b[90m━━━━━━━━━━━━━━━━━━━━━━━━━━━━━━━━━━━━━━━━\u001b[0m \u001b[32m0.0/1.2 MB\u001b[0m \u001b[31m?\u001b[0m eta \u001b[36m-:--:--\u001b[0m\r\u001b[2K   \u001b[90m━━━━━━━━━━━━━━━━━━━━━━━━━━━━━━━━━━━━━━━━\u001b[0m \u001b[32m1.2/1.2 MB\u001b[0m \u001b[31m47.5 MB/s\u001b[0m eta \u001b[36m0:00:00\u001b[0m\n",
            "\u001b[?25h\u001b[?25l   \u001b[90m━━━━━━━━━━━━━━━━━━━━━━━━━━━━━━━━━━━━━━━━\u001b[0m \u001b[32m0.0/232.1 kB\u001b[0m \u001b[31m?\u001b[0m eta \u001b[36m-:--:--\u001b[0m\r\u001b[2K   \u001b[90m━━━━━━━━━━━━━━━━━━━━━━━━━━━━━━━━━━━━━━━━\u001b[0m \u001b[32m232.1/232.1 kB\u001b[0m \u001b[31m17.7 MB/s\u001b[0m eta \u001b[36m0:00:00\u001b[0m\n",
            "\u001b[?25h\u001b[?25l   \u001b[90m━━━━━━━━━━━━━━━━━━━━━━━━━━━━━━━━━━━━━━━━\u001b[0m \u001b[32m0.0/95.2 kB\u001b[0m \u001b[31m?\u001b[0m eta \u001b[36m-:--:--\u001b[0m\r\u001b[2K   \u001b[90m━━━━━━━━━━━━━━━━━━━━━━━━━━━━━━━━━━━━━━━━\u001b[0m \u001b[32m95.2/95.2 kB\u001b[0m \u001b[31m7.9 MB/s\u001b[0m eta \u001b[36m0:00:00\u001b[0m\n",
            "\u001b[2K   \u001b[90m━━━━━━━━━━━━━━━━━━━━━━━━━━━━━━━━━━━━━━━━\u001b[0m \u001b[32m217.1/217.1 kB\u001b[0m \u001b[31m17.9 MB/s\u001b[0m eta \u001b[36m0:00:00\u001b[0m\n",
            "\u001b[2K   \u001b[90m━━━━━━━━━━━━━━━━━━━━━━━━━━━━━━━━━━━━━━━━\u001b[0m \u001b[32m334.1/334.1 kB\u001b[0m \u001b[31m16.9 MB/s\u001b[0m eta \u001b[36m0:00:00\u001b[0m\n",
            "\u001b[2K   \u001b[90m━━━━━━━━━━━━━━━━━━━━━━━━━━━━━━━━━━━━━━━━\u001b[0m \u001b[32m125.1/125.1 kB\u001b[0m \u001b[31m8.8 MB/s\u001b[0m eta \u001b[36m0:00:00\u001b[0m\n",
            "\u001b[2K   \u001b[90m━━━━━━━━━━━━━━━━━━━━━━━━━━━━━━━━━━━━━━━━\u001b[0m \u001b[32m65.8/65.8 kB\u001b[0m \u001b[31m5.1 MB/s\u001b[0m eta \u001b[36m0:00:00\u001b[0m\n",
            "\u001b[2K   \u001b[90m━━━━━━━━━━━━━━━━━━━━━━━━━━━━━━━━━━━━━━━━\u001b[0m \u001b[32m119.0/119.0 kB\u001b[0m \u001b[31m8.2 MB/s\u001b[0m eta \u001b[36m0:00:00\u001b[0m\n",
            "\u001b[2K   \u001b[90m━━━━━━━━━━━━━━━━━━━━━━━━━━━━━━━━━━━━━━━━\u001b[0m \u001b[32m194.9/194.9 kB\u001b[0m \u001b[31m15.6 MB/s\u001b[0m eta \u001b[36m0:00:00\u001b[0m\n",
            "\u001b[2K   \u001b[90m━━━━━━━━━━━━━━━━━━━━━━━━━━━━━━━━━━━━━━━━\u001b[0m \u001b[32m62.5/62.5 kB\u001b[0m \u001b[31m4.9 MB/s\u001b[0m eta \u001b[36m0:00:00\u001b[0m\n",
            "\u001b[2K   \u001b[90m━━━━━━━━━━━━━━━━━━━━━━━━━━━━━━━━━━━━━━━━\u001b[0m \u001b[32m103.3/103.3 kB\u001b[0m \u001b[31m9.0 MB/s\u001b[0m eta \u001b[36m0:00:00\u001b[0m\n",
            "\u001b[2K   \u001b[90m━━━━━━━━━━━━━━━━━━━━━━━━━━━━━━━━━━━━━━━━\u001b[0m \u001b[32m44.4/44.4 kB\u001b[0m \u001b[31m3.8 MB/s\u001b[0m eta \u001b[36m0:00:00\u001b[0m\n",
            "\u001b[2K   \u001b[90m━━━━━━━━━━━━━━━━━━━━━━━━━━━━━━━━━━━━━━━━\u001b[0m \u001b[32m72.0/72.0 kB\u001b[0m \u001b[31m5.7 MB/s\u001b[0m eta \u001b[36m0:00:00\u001b[0m\n",
            "\u001b[?25h"
          ]
        }
      ]
    },
    {
      "cell_type": "code",
      "execution_count": 17,
      "metadata": {
        "id": "aePV2bdfDeoW"
      },
      "outputs": [],
      "source": [
        "from google.adk.agents import Agent\n",
        "from google.adk.runners import Runner\n",
        "from google.adk.sessions import InMemorySessionService\n",
        "from google.adk.tools import google_search\n",
        "from google.genai import types  # Para criar conteúdos (Content e Part)\n",
        "from datetime import date\n",
        "import textwrap # Para formatar melhor a saída de texto\n",
        "from IPython.display import display, Markdown # Para exibir texto formatado no Colab\n",
        "import requests # Para fazer requisições HTTP\n",
        "import warnings\n",
        "\n",
        "warnings.filterwarnings(\"ignore\")"
      ]
    },
    {
      "cell_type": "code",
      "source": [
        "# Função auxiliar que envia uma mensagem para um agente via Runner e retorna a resposta final\n",
        "def call_agent(agent: Agent, message_text: str) -> str:\n",
        "    # Cria um serviço de sessão em memória\n",
        "    session_service = InMemorySessionService()\n",
        "    # Cria uma nova sessão (você pode personalizar os IDs conforme necessário)\n",
        "    session = session_service.create_session(app_name=agent.name, user_id=\"user1\", session_id=\"session1\")\n",
        "    # Cria um Runner para o agente\n",
        "    runner = Runner(agent=agent, app_name=agent.name, session_service=session_service)\n",
        "    # Cria o conteúdo da mensagem de entrada\n",
        "    content = types.Content(role=\"user\", parts=[types.Part(text=message_text)])\n",
        "\n",
        "    final_response = \"\"\n",
        "    # Itera assincronamente pelos eventos retornados durante a execução do agente\n",
        "    for event in runner.run(user_id=\"user1\", session_id=\"session1\", new_message=content):\n",
        "        if event.is_final_response():\n",
        "          for part in event.content.parts:\n",
        "            if part.text is not None:\n",
        "              final_response += part.text\n",
        "              final_response += \"\\n\"\n",
        "    return final_response"
      ],
      "metadata": {
        "id": "_xP4lWhsS5ko"
      },
      "execution_count": 18,
      "outputs": []
    },
    {
      "cell_type": "code",
      "source": [
        "# Função auxiliar para exibir texto formatado em Markdown no Colab\n",
        "def to_markdown(text):\n",
        "  text = text.replace('•', '  *')\n",
        "  return Markdown(textwrap.indent(text, '> ', predicate=lambda _: True))"
      ],
      "metadata": {
        "id": "8dosiodaxfFR"
      },
      "execution_count": 19,
      "outputs": []
    },
    {
      "cell_type": "code",
      "source": [
        "################################################\n",
        "# --- Agente 1: Buscador de Plantas Baixas --- #\n",
        "################################################\n",
        "def agente_buscador(especificacao):\n",
        "\n",
        "    buscador = Agent(\n",
        "        name=\"agente_buscador\",\n",
        "        model=\"gemini-2.5-flash-preview-04-17-thinking\",\n",
        "        instruction=\"\"\"\n",
        "        Você é um assistente de pesquisa. Sua tarefa é usar a ferramenta de busca do google (google_search) para recuperar descrições de plantas baixas seguindo as especificacoes abaixo.\n",
        "        Procure chegar o mais perto possivel de atender à especificacao\n",
        "        Foque nas 5 plantas mais próximas da especificação.\n",
        "        \"\"\",\n",
        "        description=\"Agente que busca informações no Google\",\n",
        "        tools=[google_search]\n",
        "    )\n",
        "\n",
        "    entrada_do_agente_buscador = f\"Especificação:{especificacao}\"\n",
        "\n",
        "    plantas = call_agent(buscador, entrada_do_agente_buscador)\n",
        "    return plantas"
      ],
      "metadata": {
        "id": "o8bqIfi_DyH8"
      },
      "execution_count": 30,
      "outputs": []
    },
    {
      "cell_type": "code",
      "source": [
        "################################################\n",
        "# --- Agente 2: Julgador de plantas --- #\n",
        "################################################\n",
        "def agente_julgador(especificacao, plantas_buscadas):\n",
        "    julgador = Agent(\n",
        "        name=\"agente_julgador\",\n",
        "        model=\"gemini-2.5-flash-preview-04-17-thinking\",\n",
        "        # Inserir as instruções do Agente Julgador #################################################\n",
        "        instruction=\"\"\"\n",
        "        Você é um julgador de plantas baixas, especialista projeto de casas. Com base na lista de plantas próximas da especificação, você deve\n",
        "        eleger a descrição de planta baixa que melhor se adequa à especificação.\n",
        "        Apresente uma justificativa para sua escolha.\n",
        "        \"\"\",\n",
        "        description=\"Agente que julga a melhor planta baixa\",\n",
        "        tools=[google_search]\n",
        "    )\n",
        "\n",
        "    entrada_do_agente_julgador = f\"Especificação:{especificacao}\\nPlantas buscadas: {plantas_buscadas}\"\n",
        "    # Executa o agente\n",
        "    melhor_planta = call_agent(julgador, entrada_do_agente_julgador)\n",
        "    return melhor_planta"
      ],
      "metadata": {
        "id": "y3VO1uo5_ghO"
      },
      "execution_count": 31,
      "outputs": []
    },
    {
      "cell_type": "code",
      "source": [
        "######################################\n",
        "# --- Agente 3: Desenhista --- #\n",
        "######################################\n",
        "def agente_desenhista(melhor_planta):\n",
        "    desenhista = Agent(\n",
        "        name=\"agente_desenhista\",\n",
        "        model=\"imagen-3.0-generate-002\",\n",
        "        instruction=\"\"\"\n",
        "            Você é um desenhista de plantas baixas e irá seguir a descrição abaixo para gerar uma imagem de planta baixa em preto e branco.\n",
        "            \"\"\",\n",
        "        description=\"Agente desenhista de planta baixa\"\n",
        "    )\n",
        "\n",
        "    entrada_do_agente_desenhista = f\"Planta baixa a ser gerada: {melhor_planta}\"\n",
        "    # Executa o agente\n",
        "    rascunho = call_agent(desenhista, entrada_do_agente_desenhista)\n",
        "    return rascunho"
      ],
      "metadata": {
        "id": "uOqlg2TRLVh1"
      },
      "execution_count": 22,
      "outputs": []
    },
    {
      "cell_type": "code",
      "source": [
        "print(\"🚀 Iniciando o Sistema de Criação de planta baixa de casa com 3 Agentes 🚀\")\n",
        "\n",
        "# --- Obter o Tópico do Usuário ---\n",
        "especificacao = input(\"❓ Especifique sua casa dos sonhos (E.g. 200m2 com 2 suites, sala, cozinha, garagem, etc): \")\n",
        "\n",
        "# Inserir lógica do sistema de agentes ################################################\n",
        "if not especificacao:\n",
        "    print(\"Você esqueceu de digitar o tópico!\")\n",
        "else:\n",
        "    print(f\"Maravilha! Vamos então criar uma planta baixa de uma casa com {especificacao}\")\n",
        "\n",
        "    plantas = agente_buscador(especificacao)\n",
        "    print(\"\\n--- 📝 Resultado do Agente 1 (Buscador) ---\\n\")\n",
        "    display(to_markdown(plantas))\n",
        "    print(\"--------------------------------------------------------------\")\n",
        "\n",
        "    melhor_planta = agente_julgador(especificacao, plantas)\n",
        "    print(\"\\n--- 📝 Resultado do Agente 2 (Julgador) ---\\n\")\n",
        "    display(to_markdown(melhor_planta))\n",
        "    print(\"--------------------------------------------------------------\")\n",
        "\n",
        "\n",
        "#    imagem_planta = agente_desenhista(melhor_planta)\n",
        "#    print(\"\\n--- 📝 Resultado do Agente 3 (Desenhista) ---\\n\")\n",
        "#    display(to_markdown(imagem_planta))\n",
        "#    print(\"--------------------------------------------------------------\")\n"
      ],
      "metadata": {
        "id": "6xzI6LKzxxnN",
        "colab": {
          "base_uri": "https://localhost:8080/",
          "height": 1000
        },
        "outputId": "7e8a1b36-f77e-407c-a143-cd55d1093058"
      },
      "execution_count": 32,
      "outputs": [
        {
          "output_type": "stream",
          "name": "stdout",
          "text": [
            "🚀 Iniciando o Sistema de Criação de planta baixa de casa com 3 Agentes 🚀\n",
            "❓ Especifique sua casa dos sonhos (E.g. 200m2 com 2 suites, sala, cozinha, garagem, etc): 200m2 com 2 suites, sala, cozinha, garagem\n",
            "Maravilha! Vamos então criar uma planta baixa de uma casa com 200m2 com 2 suites, sala, cozinha, garagem\n",
            "\n",
            "--- 📝 Resultado do Agente 1 (Buscador) ---\n",
            "\n"
          ]
        },
        {
          "output_type": "display_data",
          "data": {
            "text/plain": [
              "<IPython.core.display.Markdown object>"
            ],
            "text/markdown": "> Com base na sua especificação de uma planta baixa de aproximadamente 200m² com 2 suítes, sala, cozinha e garagem, encontrei as seguintes opções que se aproximam ou atendem a esses critérios:\n> \n> 1.  **Planta de casa térrea com 1 quarto, 2 suítes e varanda gourmet - Cód. 180 (176 m²)**: Embora liste 1 quarto e 2 suítes, totalizando 3 dormitórios, a área construída de 176m² está próxima dos 200m². Inclui 3 banheiros (o que se alinha com 2 suítes mais um lavabo ou banheiro social) e varanda gourmet. A descrição completa não detalha a sala e cozinha separadamente, mas é comum em projetos com varanda gourmet e múltiplos quartos/suítes terem esses ambientes. A garagem não é explicitamente mencionada no resumo, mas o site de origem possui filtros para garagem.\n> 2.  **Projeto de Casa Térrea Com 2 Suítes (Preço do Projeto: R$ 1.190,00)**: Este projeto é explicitamente nomeado como tendo 2 suítes. A área não é especificada no resumo inicial, mas está listado sob a categoria de plantas de casas térreas com área construída de até 200m². O site oferece a planta baixa com medidas e imagens ilustrativas da fachada. A descrição não detalha sala, cozinha e garagem no snippet, mas a categoria principal abrange plantas com área de até 200m².\n> 3.  **Planta de casa com 2 suites e 1 quarto (147 m²)**: Esta opção possui 2 suítes e mais 1 quarto, totalizando 3 dormitórios. A área de 147m² é um pouco menor que a especificação, mas inclui sala de TV, sala de jantar e cozinha integradas, além de garagem para 2 carros.\n> 4.  **Projeto de casa com 2 suítes | G05A (159.30 m²)**: Este é um projeto de sobrado com 2 suítes, sala de estar, sala de jantar e cozinha integradas, e área de serviço. Possui 4 banheiros no total e 1 vaga de garagem. A área construída é de 159.30m².\n> 5.  **Casa com 2 quartos sendo um do tipo suíte (200,00 m² de área construída)**: Encontrada em um anúncio de venda, esta casa possui 2 quartos, sendo 1 suíte. A área construída é exatamente 200m². Inclui armários planejados na cozinha, área gourmet com churrasqueira, piscina e garagem para 6 carros (sendo 2 cobertos). Embora tenha apenas 1 suíte, a área e outros cômodos se encaixam na busca.\n> \n> É importante notar que algumas das descrições encontradas incluem 3 quartos (sendo 2 suítes), ou áreas próximas a 200m² com 2 suítes e outros cômodos que podem ser adaptados. Alguns sites permitem filtrar por número de suítes, quartos, área construída e inclusão de garagem.\n> \n> Para ter acesso à planta baixa detalhada e visualizar o layout completo desses projetos, geralmente é necessário visitar os sites de origem indicados nos resultados da busca.\n"
          },
          "metadata": {}
        },
        {
          "output_type": "stream",
          "name": "stdout",
          "text": [
            "--------------------------------------------------------------\n",
            "\n",
            "--- 📝 Resultado do Agente 2 (Julgador) ---\n",
            "\n"
          ]
        },
        {
          "output_type": "display_data",
          "data": {
            "text/plain": [
              "<IPython.core.display.Markdown object>"
            ],
            "text/markdown": "> Como julgador de plantas baixas, com base na sua especificação de uma planta de aproximadamente 200m² com 2 suítes, sala, cozinha e garagem, avaliei as opções apresentadas.\n> \n> A planta baixa que melhor se adequa à sua especificação é a de número 2: **Projeto de Casa Térrea Com 2 Suítes (Preço do Projeto: R$ 1.190,00)**.\n> \n> **Justificativa:**\n> \n> Esta opção é a única que explicitamente menciona possuir **2 suítes** no seu título e descrição resumida, atendendo diretamente a um dos requisitos cruciais da sua especificação. Embora a área não seja especificada como exatos 200m², ela está listada sob a categoria de plantas de casas térreas com área construída **de até 200m²**, o que a torna a mais próxima em termos de área dentro das opções que atendem ao número de suítes.\n> \n> As outras opções apresentam desvios mais significativos:\n> *   A opção 1 possui 2 suítes, mas totaliza 3 dormitórios e a área (176m²) é um pouco abaixo do especificado.\n> *   As opções 3 e 4, apesar de mencionarem 2 suítes, possuem áreas consideravelmente menores (147m² e 159.30m²) do que os 200m² desejados. Além disso, a opção 3 também tem 3 dormitórios no total e a opção 4 é um sobrado.\n> *   A opção 5 tem a área exata de 200m², mas possui apenas 1 suíte, não atendendo ao requisito fundamental de 2 suítes.\n> \n> Apesar da descrição da opção 2 não detalhar explicitamente sala, cozinha e garagem no resumo fornecido, é altamente provável que um \"Projeto de Casa Térrea Com 2 Suítes\" dentro da categoria de até 200m² inclua esses ambientes essenciais em uma residência padrão. A especificação clara das 2 suítes e a adequação da área a tornam a candidata mais promissora a atender à sua necessidade geral.\n> \n> Para confirmar completamente se atende a todos os requisitos (sala, cozinha e garagem), seria necessário consultar a planta baixa detalhada no site de origem. No entanto, com base nas informações fornecidas, a opção 2 é a que melhor se alinha com a sua busca por uma planta com 2 suítes e aproximadamente 200m².\n"
          },
          "metadata": {}
        },
        {
          "output_type": "stream",
          "name": "stdout",
          "text": [
            "--------------------------------------------------------------\n"
          ]
        }
      ]
    }
  ]
}